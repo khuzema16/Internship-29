{
 "cells": [
  {
   "cell_type": "code",
   "execution_count": 4,
   "id": "8c1d1a72",
   "metadata": {},
   "outputs": [
    {
     "name": "stdout",
     "output_type": "stream",
     "text": [
      "Enter a number: 254\n",
      "The factorial of the number is 13140590921305800461383000485312999772637584563104865500301097585436112937395030474531867208340248291212865890660793264493829608374597066104814480522325766324749346393433958125653725607028102944055895649073546925669455844464559611898118678402279915384891280928014302570181589617808257025252685647489863012884041863014084857184237663384079934731712702738308949431076917947473700246530360714416499720082234418835880264436811011656620579173171200000000000000000000000000000000000000000000000000000000000000\n"
     ]
    }
   ],
   "source": [
    "a = int(input(\"Enter a number: \")) \n",
    "f = 1 \n",
    "for i in range(1,a+1): \n",
    "\tf = f * i \n",
    " \n",
    "print(f'The factorial of the number is {f}')"
   ]
  }
 ],
 "metadata": {
  "kernelspec": {
   "display_name": "Python 3 (ipykernel)",
   "language": "python",
   "name": "python3"
  },
  "language_info": {
   "codemirror_mode": {
    "name": "ipython",
    "version": 3
   },
   "file_extension": ".py",
   "mimetype": "text/x-python",
   "name": "python",
   "nbconvert_exporter": "python",
   "pygments_lexer": "ipython3",
   "version": "3.9.12"
  }
 },
 "nbformat": 4,
 "nbformat_minor": 5
}
