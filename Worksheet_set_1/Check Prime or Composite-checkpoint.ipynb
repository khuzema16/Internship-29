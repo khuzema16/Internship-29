{
 "cells": [
  {
   "cell_type": "code",
   "execution_count": 1,
   "id": "4c34ddfa",
   "metadata": {},
   "outputs": [
    {
     "name": "stdout",
     "output_type": "stream",
     "text": [
      "Enter the number to check prime or composite: 25\n",
      "The number is composite number\n"
     ]
    }
   ],
   "source": [
    "number=int(input(\"Enter the number to check prime or composite: \"))#Take the number from the user.\n",
    "\n",
    "count=0\n",
    "\n",
    "for i in range(2,int(number/2)+1):#Loop which is used to dive the number from other number.\n",
    "\n",
    "   if(number%i==0):\n",
    "\n",
    "       count=1\n",
    "\n",
    "       break\n",
    "\n",
    "if(count==0):#For prime number.\n",
    "\n",
    "   print(\"The number is prime number\")\n",
    "\n",
    "else:#For composite number.\n",
    "\n",
    "   print(\"The number is composite number\")"
   ]
  },
  {
   "cell_type": "code",
   "execution_count": null,
   "id": "be609fa9",
   "metadata": {},
   "outputs": [],
   "source": []
  }
 ],
 "metadata": {
  "kernelspec": {
   "display_name": "Python 3 (ipykernel)",
   "language": "python",
   "name": "python3"
  },
  "language_info": {
   "codemirror_mode": {
    "name": "ipython",
    "version": 3
   },
   "file_extension": ".py",
   "mimetype": "text/x-python",
   "name": "python",
   "nbconvert_exporter": "python",
   "pygments_lexer": "ipython3",
   "version": "3.9.12"
  }
 },
 "nbformat": 4,
 "nbformat_minor": 5
}
